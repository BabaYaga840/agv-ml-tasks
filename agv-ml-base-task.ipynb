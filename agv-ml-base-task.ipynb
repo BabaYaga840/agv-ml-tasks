{
 "cells": [
  {
   "cell_type": "code",
   "execution_count": 1,
   "id": "0e6d01a6",
   "metadata": {},
   "outputs": [],
   "source": [
    "import pandas as pd\n",
    "import numpy as np\n",
    "import math\n",
    "import matplotlib.pyplot as plt\n",
    "from sklearn.model_selection import train_test_split\n",
    "from sklearn.metrics import f1_score\n",
    "from sklearn import linear_model"
   ]
  },
  {
   "cell_type": "code",
   "execution_count": 2,
   "id": "16f7e562",
   "metadata": {},
   "outputs": [],
   "source": [
    "ncomp=400\n",
    "lr=0.3\n",
    "lr1=0.4"
   ]
  },
  {
   "cell_type": "code",
   "execution_count": 3,
   "id": "44fab933",
   "metadata": {},
   "outputs": [],
   "source": [
    "test=pd.read_csv(\"test.csv\")\n",
    "train=pd.read_csv(\"train.csv\")"
   ]
  },
  {
   "cell_type": "raw",
   "id": "703bf379",
   "metadata": {},
   "source": []
  },
  {
   "cell_type": "code",
   "execution_count": 4,
   "id": "af3da4c7",
   "metadata": {},
   "outputs": [],
   "source": [
    "train_l=train[\"label\"]\n",
    "train=train.drop(\"label\",axis=1)"
   ]
  },
  {
   "cell_type": "code",
   "execution_count": 5,
   "id": "579d17d8",
   "metadata": {},
   "outputs": [],
   "source": [
    "train[:]=train[:]*train[:].max()//255"
   ]
  },
  {
   "cell_type": "code",
   "execution_count": 6,
   "id": "4a8d63e6",
   "metadata": {},
   "outputs": [
    {
     "data": {
      "text/plain": [
       "0          0\n",
       "1        254\n",
       "2          0\n",
       "3         67\n",
       "4        253\n",
       "        ... \n",
       "41995      0\n",
       "41996      0\n",
       "41997      0\n",
       "41998     73\n",
       "41999    154\n",
       "Name: pixel400, Length: 42000, dtype: int64"
      ]
     },
     "execution_count": 6,
     "metadata": {},
     "output_type": "execute_result"
    }
   ],
   "source": [
    "train.pixel400"
   ]
  },
  {
   "cell_type": "code",
   "execution_count": 7,
   "id": "d4dc6a7b",
   "metadata": {},
   "outputs": [
    {
     "data": {
      "text/plain": [
       "0        1\n",
       "1        0\n",
       "2        1\n",
       "3        4\n",
       "4        0\n",
       "        ..\n",
       "41995    0\n",
       "41996    1\n",
       "41997    7\n",
       "41998    6\n",
       "41999    9\n",
       "Name: label, Length: 42000, dtype: int64"
      ]
     },
     "execution_count": 7,
     "metadata": {},
     "output_type": "execute_result"
    }
   ],
   "source": [
    "train_l"
   ]
  },
  {
   "cell_type": "code",
   "execution_count": 8,
   "id": "379def47",
   "metadata": {},
   "outputs": [
    {
     "name": "stdout",
     "output_type": "stream",
     "text": [
      "[0.9952726  0.99533686 0.99539945 0.99546125 0.99552143 0.99558105\n",
      " 0.9956401  0.99569839 0.99575603 0.99581261]\n"
     ]
    },
    {
     "data": {
      "image/png": "[encoded data removed]",
      "text/plain": [
       "<Figure size 432x288 with 1 Axes>"
      ]
     },
     "metadata": {
      "needs_background": "light"
     },
     "output_type": "display_data"
    }
   ],
   "source": [
    "#def applypca(X_train,test):\n",
    "from sklearn.decomposition import PCA\n",
    "    \n",
    "# Create principal components\n",
    "pca = PCA(n_components=ncomp)\n",
    "X_pca = pca.fit_transform(train)\n",
    "Y_pca = pca.transform(test)\n",
    "# Convert to dataframe\n",
    "component_names = [f\"PC{i+1}\" for i in range(X_pca.shape[1])]\n",
    "X_pca = pd.DataFrame(X_pca, columns=component_names)\n",
    "    \n",
    "component_names = [f\"PC{i+1}\" for i in range(Y_pca.shape[1])]\n",
    "Y_pca = pd.DataFrame(Y_pca, columns=component_names)\n",
    "    \n",
    "import matplotlib.pyplot as plt\n",
    "plt.plot(np.cumsum(pca.explained_variance_ratio_))\n",
    "plt.xlabel('number of components')\n",
    "plt.ylabel('cumulative explained variance')\n",
    "woosh=np.cumsum(pca.explained_variance_ratio_)\n",
    "print(woosh[(ncomp-10):])\n",
    "    #X_pca1=X_pca[:,5]\n",
    "    #X_pca.head()\n",
    "train=X_pca\n",
    "test=Y_pca"
   ]
  },
  {
   "cell_type": "code",
   "execution_count": 9,
   "id": "ea1c4d43",
   "metadata": {},
   "outputs": [
    {
     "data": {
      "text/plain": [
       "(42000, 400)"
      ]
     },
     "execution_count": 9,
     "metadata": {},
     "output_type": "execute_result"
    }
   ],
   "source": [
    "train.shape"
   ]
  },
  {
   "cell_type": "markdown",
   "id": "4374b26e",
   "metadata": {},
   "source": [
    "qwerty=applypca(train,test)\n",
    "train=qwerty[0]\n",
    "test=qwerty[1]"
   ]
  },
  {
   "cell_type": "code",
   "execution_count": 10,
   "id": "9f84626d",
   "metadata": {},
   "outputs": [],
   "source": [
    "a=np.zeros(shape=(42000,10))\n",
    "train_m=pd.DataFrame(a, columns=range(0,10))"
   ]
  },
  {
   "cell_type": "code",
   "execution_count": 11,
   "id": "d7d0d64c",
   "metadata": {},
   "outputs": [
    {
     "data": {
      "text/plain": [
       "XGBRegressor(base_score=0.5, booster='gbtree', callbacks=None,\n",
       "             colsample_bylevel=1, colsample_bynode=1, colsample_bytree=1,\n",
       "             early_stopping_rounds=None, enable_categorical=False,\n",
       "             eval_metric=None, gamma=0, gpu_id=-1, grow_policy='depthwise',\n",
       "             importance_type=None, interaction_constraints='',\n",
       "             learning_rate=0.1, max_bin=256, max_cat_to_onehot=4,\n",
       "             max_delta_step=0, max_depth=6, max_leaves=0, min_child_weight=1,\n",
       "             missing=nan, monotone_constraints='()', n_estimators=100, n_jobs=0,\n",
       "             num_parallel_tree=1, predictor='auto', random_state=42,\n",
       "             reg_alpha=0, reg_lambda=1, ...)"
      ]
     },
     "execution_count": 11,
     "metadata": {},
     "output_type": "execute_result"
    }
   ],
   "source": [
    "from xgboost import XGBRegressor\n",
    "i=0\n",
    "train_m[i]=(train_l==i)\n",
    "model0 = XGBRegressor(learning_rate=lr, random_state=42)\n",
    "model0.fit(train,train_m[i])\n",
    "i+=1\n",
    "train_m[i]=(train_l==i)\n",
    "model1 = XGBRegressor(learning_rate=lr, random_state=42)\n",
    "model1.fit(train,train_m[i])\n",
    "i+=1\n",
    "train_m[i]=(train_l==i)\n",
    "model2 = XGBRegressor(learning_rate=lr, random_state=42)\n",
    "model2.fit(train,train_m[i])\n",
    "i+=1\n",
    "train_m[i]=(train_l==i)\n",
    "model3 = XGBRegressor(learning_rate=lr, random_state=42)\n",
    "model3.fit(train,train_m[i])\n",
    "i+=1\n",
    "train_m[i]=(train_l==i)\n",
    "model4 = XGBRegressor(learning_rate=lr, random_state=42)\n",
    "model4.fit(train,train_m[i])\n",
    "i+=1\n",
    "train_m[i]=(train_l==i)\n",
    "model5 = XGBRegressor(learning_rate=lr, random_state=42)\n",
    "model5.fit(train,train_m[i])\n",
    "i+=1\n",
    "train_m[i]=(train_l==i)\n",
    "model6 = XGBRegressor(learning_rate=lr, random_state=42)\n",
    "model6.fit(train,train_m[i])\n",
    "i+=1\n",
    "train_m[i]=(train_l==i)\n",
    "model7 = XGBRegressor(learning_rate=lr, random_state=42)\n",
    "model7.fit(train,train_m[i])\n",
    "i+=1\n",
    "train_m[i]=(train_l==i)\n",
    "model8 = XGBRegressor(learning_rate=lr, random_state=42)\n",
    "model8.fit(train,train_m[i])\n",
    "i+=1\n",
    "train_m[i]=(train_l==i)\n",
    "model9 = XGBRegressor(learning_rate=lr, random_state=42)\n",
    "model9.fit(train,train_m[i])"
   ]
  },
  {
   "cell_type": "markdown",
   "id": "1b0e595b",
   "metadata": {},
   "source": [
    "from xgboost import XGBRegressor\n",
    "i=0\n",
    "train_m[i]=(train_l==i)\n",
    "model0 = XGBRegressor(learning_rate=lr, random_state=42)\n",
    "model0.fit(train,train_l)"
   ]
  },
  {
   "cell_type": "markdown",
   "id": "a089fff9",
   "metadata": {},
   "source": [
    "from sklearn.ensemble import RandomForestRegressor\n",
    "i=0\n",
    "train_m[i]=(train_l==i)\n",
    "model0 = RandomForestRegressor(n_estimators = 1000, random_state = 42)\n",
    "model0.fit(train,train_m[i])\n",
    "i+=1\n",
    "train_m[i]=(train_l==i)\n",
    "model1 = RandomForestRegressor(n_estimators = 1000, random_state = 42)\n",
    "model1.fit(train,train_m[i])\n",
    "i+=1\n",
    "train_m[i]=(train_l==i)\n",
    "model2 = RandomForestRegressor(n_estimators = 1000, random_state = 42)\n",
    "model2.fit(train,train_m[i])\n",
    "i+=1\n",
    "train_m[i]=(train_l==i)\n",
    "model3 = RandomForestRegressor(n_estimators = 1000, random_state = 42)\n",
    "model3.fit(train,train_m[i])\n",
    "i+=1\n",
    "train_m[i]=(train_l==i)\n",
    "model4 = RandomForestRegressor(n_estimators = 1000, random_state = 42)\n",
    "model4.fit(train,train_m[i])\n",
    "i+=1\n",
    "train_m[i]=(train_l==i)\n",
    "model5 = RandomForestRegressor(n_estimators = 1000, random_state = 42)\n",
    "model5.fit(train,train_m[i])\n",
    "i+=1\n",
    "train_m[i]=(train_l==i)\n",
    "model6 = RandomForestRegressor(n_estimators = 1000, random_state = 42)\n",
    "model6.fit(train,train_m[i])\n",
    "i+=1\n",
    "train_m[i]=(train_l==i)\n",
    "model7 = RandomForestRegressor(n_estimators = 1000, random_state = 42)\n",
    "model7.fit(train,train_m[i])\n",
    "i+=1\n",
    "train_m[i]=(train_l==i)\n",
    "model8 = RandomForestRegressor(n_estimators = 1000, random_state = 42)\n",
    "model8.fit(train,train_m[i])\n",
    "i+=1\n",
    "train_m[i]=(train_l==i)\n",
    "model9 = RandomForestRegressor(n_estimators = 1000, random_state = 42)\n",
    "model9.fit(train,train_m[i])"
   ]
  },
  {
   "cell_type": "code",
   "execution_count": 12,
   "id": "e1f3e632",
   "metadata": {},
   "outputs": [],
   "source": [
    "a=np.zeros(shape=(28000,10))\n",
    "test_pred=pd.DataFrame(a, columns=range(0,10))\n",
    "#test=applypca(test)\n",
    "test_pred[0]=model0.predict(test)\n",
    "test_pred[1]=model1.predict(test)\n",
    "test_pred[2]=model2.predict(test)\n",
    "test_pred[3]=model3.predict(test)\n",
    "test_pred[4]=model4.predict(test)\n",
    "test_pred[5]=model5.predict(test)\n",
    "test_pred[6]=model6.predict(test)\n",
    "test_pred[7]=model7.predict(test)\n",
    "test_pred[8]=model8.predict(test)\n",
    "test_pred[9]=model9.predict(test)\n"
   ]
  },
  {
   "cell_type": "markdown",
   "id": "0ec3d7b0",
   "metadata": {},
   "source": [
    "test=applypca(test)\n",
    "fpred=model0.predict(test)"
   ]
  },
  {
   "cell_type": "code",
   "execution_count": 13,
   "id": "34052618",
   "metadata": {},
   "outputs": [],
   "source": [
    "fpred=test_pred.idxmax(axis=1, skipna=True)"
   ]
  },
  {
   "cell_type": "code",
   "execution_count": 14,
   "id": "02143162",
   "metadata": {
    "scrolled": true
   },
   "outputs": [
    {
     "data": {
      "text/plain": [
       "0        2\n",
       "1        0\n",
       "2        9\n",
       "3        9\n",
       "4        3\n",
       "        ..\n",
       "27995    9\n",
       "27996    7\n",
       "27997    3\n",
       "27998    9\n",
       "27999    2\n",
       "Length: 28000, dtype: int64"
      ]
     },
     "execution_count": 14,
     "metadata": {},
     "output_type": "execute_result"
    }
   ],
   "source": [
    "fpred"
   ]
  },
  {
   "cell_type": "code",
   "execution_count": 15,
   "id": "00554328",
   "metadata": {},
   "outputs": [],
   "source": [
    "fpred=pd.DataFrame(fpred)"
   ]
  },
  {
   "cell_type": "code",
   "execution_count": 16,
   "id": "9ae66291",
   "metadata": {},
   "outputs": [],
   "source": [
    "fpred.index=np.arange(1,28001)"
   ]
  },
  {
   "cell_type": "markdown",
   "id": "31bfc414",
   "metadata": {},
   "source": [
    "fpred=fpred.round(decimals=0).astype(int)"
   ]
  },
  {
   "cell_type": "code",
   "execution_count": 17,
   "id": "1b93164c",
   "metadata": {},
   "outputs": [],
   "source": [
    "fpred.to_csv('mnistpreds1.csv',index=True)"
   ]
  },
  {
   "cell_type": "code",
   "execution_count": 18,
   "id": "0b8f8e43",
   "metadata": {},
   "outputs": [],
   "source": [
    "fpred=pd.read_csv(\"mnistpreds1.csv\")"
   ]
  },
  {
   "cell_type": "code",
   "execution_count": 19,
   "id": "50c7f472",
   "metadata": {},
   "outputs": [],
   "source": [
    "a0=a1=a2=a3=a4=a5=a6=a7=a8=a9=0\n",
    "for a in fpred.Label:\n",
    "    if a==0:\n",
    "        a0=a0+1\n",
    "    if a==1:\n",
    "        a1=a1+1\n",
    "    if a==2:\n",
    "        a2=a2+1\n",
    "    if a==3:\n",
    "        a3=a3+1\n",
    "    if a==4:\n",
    "        a4=a4+1\n",
    "    if a==5:\n",
    "        a5=a5+1\n",
    "    if a==6:\n",
    "        a6=a6+1\n",
    "    if a==7:\n",
    "        a7=a7+1\n",
    "    if a==8:\n",
    "        a8=a8+1\n",
    "    if a==9:\n",
    "        a9=a9+1"
   ]
  },
  {
   "cell_type": "code",
   "execution_count": 20,
   "id": "b0183f2e",
   "metadata": {},
   "outputs": [
    {
     "data": {
      "text/plain": [
       "(42000, 400)"
      ]
     },
     "execution_count": 20,
     "metadata": {},
     "output_type": "execute_result"
    }
   ],
   "source": [
    "train.shape"
   ]
  },
  {
   "cell_type": "code",
   "execution_count": 21,
   "id": "12cac8b0",
   "metadata": {},
   "outputs": [
    {
     "data": {
      "text/plain": [
       "2769"
      ]
     },
     "execution_count": 21,
     "metadata": {},
     "output_type": "execute_result"
    }
   ],
   "source": [
    "a0"
   ]
  },
  {
   "cell_type": "code",
   "execution_count": 22,
   "id": "069e0ed4",
   "metadata": {},
   "outputs": [
    {
     "data": {
      "text/plain": [
       "3232"
      ]
     },
     "execution_count": 22,
     "metadata": {},
     "output_type": "execute_result"
    }
   ],
   "source": [
    "a1"
   ]
  },
  {
   "cell_type": "code",
   "execution_count": 23,
   "id": "5ad98b28",
   "metadata": {},
   "outputs": [
    {
     "data": {
      "text/plain": [
       "2765"
      ]
     },
     "execution_count": 23,
     "metadata": {},
     "output_type": "execute_result"
    }
   ],
   "source": [
    "a2"
   ]
  },
  {
   "cell_type": "code",
   "execution_count": 24,
   "id": "8427bf87",
   "metadata": {},
   "outputs": [
    {
     "data": {
      "text/plain": [
       "2814"
      ]
     },
     "execution_count": 24,
     "metadata": {},
     "output_type": "execute_result"
    }
   ],
   "source": [
    "a3"
   ]
  },
  {
   "cell_type": "code",
   "execution_count": 25,
   "id": "a035af58",
   "metadata": {},
   "outputs": [
    {
     "data": {
      "text/plain": [
       "2773"
      ]
     },
     "execution_count": 25,
     "metadata": {},
     "output_type": "execute_result"
    }
   ],
   "source": [
    "a4"
   ]
  },
  {
   "cell_type": "code",
   "execution_count": 26,
   "id": "db6603f6",
   "metadata": {},
   "outputs": [
    {
     "data": {
      "text/plain": [
       "2543"
      ]
     },
     "execution_count": 26,
     "metadata": {},
     "output_type": "execute_result"
    }
   ],
   "source": [
    "a5"
   ]
  },
  {
   "cell_type": "code",
   "execution_count": 27,
   "id": "02843060",
   "metadata": {},
   "outputs": [
    {
     "data": {
      "text/plain": [
       "2753"
      ]
     },
     "execution_count": 27,
     "metadata": {},
     "output_type": "execute_result"
    }
   ],
   "source": [
    "a6"
   ]
  },
  {
   "cell_type": "code",
   "execution_count": 28,
   "id": "c82acadd",
   "metadata": {},
   "outputs": [
    {
     "data": {
      "text/plain": [
       "2880"
      ]
     },
     "execution_count": 28,
     "metadata": {},
     "output_type": "execute_result"
    }
   ],
   "source": [
    "a7"
   ]
  },
  {
   "cell_type": "code",
   "execution_count": 29,
   "id": "7872f745",
   "metadata": {},
   "outputs": [
    {
     "data": {
      "text/plain": [
       "2729"
      ]
     },
     "execution_count": 29,
     "metadata": {},
     "output_type": "execute_result"
    }
   ],
   "source": [
    "a8"
   ]
  },
  {
   "cell_type": "code",
   "execution_count": 30,
   "id": "c6717327",
   "metadata": {},
   "outputs": [
    {
     "data": {
      "text/plain": [
       "2742"
      ]
     },
     "execution_count": 30,
     "metadata": {},
     "output_type": "execute_result"
    }
   ],
   "source": [
    "a9"
   ]
  },
  {
   "cell_type": "code",
   "execution_count": 31,
   "id": "b1cc4f92",
   "metadata": {},
   "outputs": [
    {
     "data": {
      "text/plain": [
       "0.0967765599489212"
      ]
     },
     "execution_count": 31,
     "metadata": {},
     "output_type": "execute_result"
    }
   ],
   "source": [
    "test_pred[0].mean()"
   ]
  },
  {
   "cell_type": "code",
   "execution_count": 32,
   "id": "fb05d6e2",
   "metadata": {},
   "outputs": [
    {
     "data": {
      "text/plain": [
       "0.11398956179618835"
      ]
     },
     "execution_count": 32,
     "metadata": {},
     "output_type": "execute_result"
    }
   ],
   "source": [
    "test_pred[1].mean()"
   ]
  },
  {
   "cell_type": "code",
   "execution_count": 33,
   "id": "010fb016",
   "metadata": {},
   "outputs": [
    {
     "data": {
      "text/plain": [
       "0.09860675036907196"
      ]
     },
     "execution_count": 33,
     "metadata": {},
     "output_type": "execute_result"
    }
   ],
   "source": [
    "test_pred[2].mean()"
   ]
  },
  {
   "cell_type": "code",
   "execution_count": 34,
   "id": "ed5d7acb",
   "metadata": {},
   "outputs": [
    {
     "data": {
      "text/plain": [
       "0.10042335838079453"
      ]
     },
     "execution_count": 34,
     "metadata": {},
     "output_type": "execute_result"
    }
   ],
   "source": [
    "test_pred[3].mean()"
   ]
  },
  {
   "cell_type": "code",
   "execution_count": 35,
   "id": "af4f157b",
   "metadata": {},
   "outputs": [
    {
     "data": {
      "text/plain": [
       "0.09867613762617111"
      ]
     },
     "execution_count": 35,
     "metadata": {},
     "output_type": "execute_result"
    }
   ],
   "source": [
    "test_pred[4].mean()"
   ]
  },
  {
   "cell_type": "code",
   "execution_count": 36,
   "id": "cf6ae766",
   "metadata": {},
   "outputs": [
    {
     "data": {
      "text/plain": [
       "0.08903412520885468"
      ]
     },
     "execution_count": 36,
     "metadata": {},
     "output_type": "execute_result"
    }
   ],
   "source": [
    "test_pred[5].mean()"
   ]
  },
  {
   "cell_type": "code",
   "execution_count": 37,
   "id": "a21506a5",
   "metadata": {},
   "outputs": [
    {
     "data": {
      "text/plain": [
       "0.09771693497896194"
      ]
     },
     "execution_count": 37,
     "metadata": {},
     "output_type": "execute_result"
    }
   ],
   "source": [
    "test_pred[6].mean()"
   ]
  },
  {
   "cell_type": "code",
   "execution_count": 38,
   "id": "39386a07",
   "metadata": {},
   "outputs": [
    {
     "data": {
      "text/plain": [
       "0.10305821895599365"
      ]
     },
     "execution_count": 38,
     "metadata": {},
     "output_type": "execute_result"
    }
   ],
   "source": [
    "test_pred[7].mean()"
   ]
  },
  {
   "cell_type": "code",
   "execution_count": 39,
   "id": "edd73095",
   "metadata": {},
   "outputs": [
    {
     "data": {
      "text/plain": [
       "0.09569041430950165"
      ]
     },
     "execution_count": 39,
     "metadata": {},
     "output_type": "execute_result"
    }
   ],
   "source": [
    "test_pred[8].mean()"
   ]
  },
  {
   "cell_type": "code",
   "execution_count": 40,
   "id": "9703a719",
   "metadata": {},
   "outputs": [
    {
     "data": {
      "text/plain": [
       "0.09848048537969589"
      ]
     },
     "execution_count": 40,
     "metadata": {},
     "output_type": "execute_result"
    }
   ],
   "source": [
    "test_pred[9].mean()"
   ]
  },
  {
   "cell_type": "code",
   "execution_count": null,
   "id": "daba6995",
   "metadata": {},
   "outputs": [],
   "source": []
  }
 ],
 "metadata": {
  "kernelspec": {
   "display_name": "Python 3 (ipykernel)",
   "language": "python",
   "name": "python3"
  },
  "language_info": {
   "codemirror_mode": {
    "name": "ipython",
    "version": 3
   },
   "file_extension": ".py",
   "mimetype": "text/x-python",
   "name": "python",
   "nbconvert_exporter": "python",
   "pygments_lexer": "ipython3",
   "version": "3.9.12"
  }
 },
 "nbformat": 4,
 "nbformat_minor": 5
}
